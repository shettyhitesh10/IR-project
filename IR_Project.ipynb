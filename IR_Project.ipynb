{
 "cells": [
  {
   "cell_type": "code",
   "execution_count": 1,
   "metadata": {},
   "outputs": [],
   "source": [
    "import numpy as np\n",
    "import pandas as pd\n",
    "from pprint import pprint\n",
    "import re\n",
    "import glob"
   ]
  },
  {
   "cell_type": "code",
   "execution_count": 2,
   "metadata": {},
   "outputs": [],
   "source": [
    "files = (glob.glob(\"corpus-20090418\\*.txt\"))\n"
   ]
  },
  {
   "cell_type": "code",
   "execution_count": 3,
   "metadata": {},
   "outputs": [],
   "source": [
    "files_name = [''.join(re.findall(\"\\\\\\\\(.*)\\.txt\",x)) for x in files]#re.findall returns a list \n",
    "                                                               #and only group stuff is returned"
   ]
  },
  {
   "cell_type": "code",
   "execution_count": 4,
   "metadata": {
    "scrolled": true
   },
   "outputs": [
    {
     "name": "stdout",
     "output_type": "stream",
     "text": [
      "['corpus-20090418\\\\g0pA_taska.txt',\n",
      " 'corpus-20090418\\\\g0pA_taskb.txt',\n",
      " 'corpus-20090418\\\\g0pA_taskc.txt',\n",
      " 'corpus-20090418\\\\g0pA_taskd.txt',\n",
      " 'corpus-20090418\\\\g0pA_taske.txt',\n",
      " 'corpus-20090418\\\\g0pB_taska.txt',\n",
      " 'corpus-20090418\\\\g0pB_taskb.txt',\n",
      " 'corpus-20090418\\\\g0pB_taskc.txt',\n",
      " 'corpus-20090418\\\\g0pB_taskd.txt',\n",
      " 'corpus-20090418\\\\g0pB_taske.txt',\n",
      " 'corpus-20090418\\\\g0pC_taska.txt',\n",
      " 'corpus-20090418\\\\g0pC_taskb.txt',\n",
      " 'corpus-20090418\\\\g0pC_taskc.txt',\n",
      " 'corpus-20090418\\\\g0pC_taskd.txt',\n",
      " 'corpus-20090418\\\\g0pC_taske.txt',\n",
      " 'corpus-20090418\\\\g0pD_taska.txt',\n",
      " 'corpus-20090418\\\\g0pD_taskb.txt',\n",
      " 'corpus-20090418\\\\g0pD_taskc.txt',\n",
      " 'corpus-20090418\\\\g0pD_taskd.txt',\n",
      " 'corpus-20090418\\\\g0pD_taske.txt',\n",
      " 'corpus-20090418\\\\g0pE_taska.txt',\n",
      " 'corpus-20090418\\\\g0pE_taskb.txt',\n",
      " 'corpus-20090418\\\\g0pE_taskc.txt',\n",
      " 'corpus-20090418\\\\g0pE_taskd.txt',\n",
      " 'corpus-20090418\\\\g0pE_taske.txt',\n",
      " 'corpus-20090418\\\\g1pA_taska.txt',\n",
      " 'corpus-20090418\\\\g1pA_taskb.txt',\n",
      " 'corpus-20090418\\\\g1pA_taskc.txt',\n",
      " 'corpus-20090418\\\\g1pA_taskd.txt',\n",
      " 'corpus-20090418\\\\g1pA_taske.txt',\n",
      " 'corpus-20090418\\\\g1pB_taska.txt',\n",
      " 'corpus-20090418\\\\g1pB_taskb.txt',\n",
      " 'corpus-20090418\\\\g1pB_taskc.txt',\n",
      " 'corpus-20090418\\\\g1pB_taskd.txt',\n",
      " 'corpus-20090418\\\\g1pB_taske.txt',\n",
      " 'corpus-20090418\\\\g1pD_taska.txt',\n",
      " 'corpus-20090418\\\\g1pD_taskb.txt',\n",
      " 'corpus-20090418\\\\g1pD_taskc.txt',\n",
      " 'corpus-20090418\\\\g1pD_taskd.txt',\n",
      " 'corpus-20090418\\\\g1pD_taske.txt',\n",
      " 'corpus-20090418\\\\g2pA_taska.txt',\n",
      " 'corpus-20090418\\\\g2pA_taskb.txt',\n",
      " 'corpus-20090418\\\\g2pA_taskc.txt',\n",
      " 'corpus-20090418\\\\g2pA_taskd.txt',\n",
      " 'corpus-20090418\\\\g2pA_taske.txt',\n",
      " 'corpus-20090418\\\\g2pB_taska.txt',\n",
      " 'corpus-20090418\\\\g2pB_taskb.txt',\n",
      " 'corpus-20090418\\\\g2pB_taskc.txt',\n",
      " 'corpus-20090418\\\\g2pB_taskd.txt',\n",
      " 'corpus-20090418\\\\g2pB_taske.txt',\n",
      " 'corpus-20090418\\\\g2pC_taska.txt',\n",
      " 'corpus-20090418\\\\g2pC_taskb.txt',\n",
      " 'corpus-20090418\\\\g2pC_taskc.txt',\n",
      " 'corpus-20090418\\\\g2pC_taskd.txt',\n",
      " 'corpus-20090418\\\\g2pC_taske.txt',\n",
      " 'corpus-20090418\\\\g2pE_taska.txt',\n",
      " 'corpus-20090418\\\\g2pE_taskb.txt',\n",
      " 'corpus-20090418\\\\g2pE_taskc.txt',\n",
      " 'corpus-20090418\\\\g2pE_taskd.txt',\n",
      " 'corpus-20090418\\\\g2pE_taske.txt',\n",
      " 'corpus-20090418\\\\g3pA_taska.txt',\n",
      " 'corpus-20090418\\\\g3pA_taskb.txt',\n",
      " 'corpus-20090418\\\\g3pA_taskc.txt',\n",
      " 'corpus-20090418\\\\g3pA_taskd.txt',\n",
      " 'corpus-20090418\\\\g3pA_taske.txt',\n",
      " 'corpus-20090418\\\\g3pB_taska.txt',\n",
      " 'corpus-20090418\\\\g3pB_taskb.txt',\n",
      " 'corpus-20090418\\\\g3pB_taskc.txt',\n",
      " 'corpus-20090418\\\\g3pB_taskd.txt',\n",
      " 'corpus-20090418\\\\g3pB_taske.txt',\n",
      " 'corpus-20090418\\\\g3pC_taska.txt',\n",
      " 'corpus-20090418\\\\g3pC_taskb.txt',\n",
      " 'corpus-20090418\\\\g3pC_taskc.txt',\n",
      " 'corpus-20090418\\\\g3pC_taskd.txt',\n",
      " 'corpus-20090418\\\\g3pC_taske.txt',\n",
      " 'corpus-20090418\\\\g4pB_taska.txt',\n",
      " 'corpus-20090418\\\\g4pB_taskb.txt',\n",
      " 'corpus-20090418\\\\g4pB_taskc.txt',\n",
      " 'corpus-20090418\\\\g4pB_taskd.txt',\n",
      " 'corpus-20090418\\\\g4pB_taske.txt',\n",
      " 'corpus-20090418\\\\g4pC_taska.txt',\n",
      " 'corpus-20090418\\\\g4pC_taskb.txt',\n",
      " 'corpus-20090418\\\\g4pC_taskc.txt',\n",
      " 'corpus-20090418\\\\g4pC_taskd.txt',\n",
      " 'corpus-20090418\\\\g4pC_taske.txt',\n",
      " 'corpus-20090418\\\\g4pD_taska.txt',\n",
      " 'corpus-20090418\\\\g4pD_taskb.txt',\n",
      " 'corpus-20090418\\\\g4pD_taskc.txt',\n",
      " 'corpus-20090418\\\\g4pD_taskd.txt',\n",
      " 'corpus-20090418\\\\g4pD_taske.txt',\n",
      " 'corpus-20090418\\\\g4pE_taska.txt',\n",
      " 'corpus-20090418\\\\g4pE_taskb.txt',\n",
      " 'corpus-20090418\\\\g4pE_taskc.txt',\n",
      " 'corpus-20090418\\\\g4pE_taskd.txt',\n",
      " 'corpus-20090418\\\\g4pE_taske.txt',\n",
      " 'corpus-20090418\\\\orig_taska.txt',\n",
      " 'corpus-20090418\\\\orig_taskb.txt',\n",
      " 'corpus-20090418\\\\orig_taskc.txt',\n",
      " 'corpus-20090418\\\\orig_taskd.txt',\n",
      " 'corpus-20090418\\\\orig_taske.txt']\n"
     ]
    }
   ],
   "source": [
    "pprint(files)"
   ]
  },
  {
   "cell_type": "code",
   "execution_count": 44,
   "metadata": {},
   "outputs": [],
   "source": [
    "text=[]\n",
    "for x in files:\n",
    "    temp_file = open(x,'r',encoding=\"Latin-1\")\n",
    "    text.append(temp_file.read())"
   ]
  },
  {
   "cell_type": "code",
   "execution_count": 47,
   "metadata": {},
   "outputs": [],
   "source": [
    "text= [x.rep('â') for x in text]#all quotes were incoorect due to some encoding issue thus replace"
   ]
  },
  {
   "cell_type": "code",
   "execution_count": 48,
   "metadata": {},
   "outputs": [
    {
     "name": "stdout",
     "output_type": "stream",
     "text": [
      "Inheritance is a basic concept of Object-Oriented Programming where\n",
      "the basic idea is to create new classes that add extra detail to\n",
      "existing classes. This is done by allowing the new classes to reuse\n",
      "the methods and variables of the existing classes and new methods and\n",
      "classes are added to specialise the new class. Inheritance models the\n",
      " is-kind-of  relationship between entities (or objects), for example,\n",
      "postgraduates and undergraduates are both kinds of student. This kind\n",
      "of relationship can be visualised as a tree structure, where  student \n",
      "would be the more general root node and both  postgraduate  and\n",
      " undergraduate  would be more specialised extensions of the  student \n",
      "node (or the child nodes). In this relationship  student  would be\n",
      "known as the superclass or parent class whereas,  postgraduate  would\n",
      "be known as the subclass or child class because the  postgraduate \n",
      "class extends the  student  class.\n",
      "\n",
      "Inheritance can occur on several layers, where if visualised would\n",
      "display a larger tree structure. For example, we could further extend\n",
      "the  postgraduate  node by adding two extra extended classes to it\n",
      "called,  MSc Student  and  PhD Student  as both these types of student\n",
      "are kinds of postgraduate student. This would mean that both the  MSc\n",
      "Student  and  PhD Student  classes would inherit methods and variables\n",
      "from both the  postgraduate  and  student classes .\n",
      "\n"
     ]
    }
   ],
   "source": [
    "print((text[0]))"
   ]
  },
  {
   "cell_type": "code",
   "execution_count": 34,
   "metadata": {},
   "outputs": [],
   "source": [
    "df_plag = pd.DataFrame({\"f_name\":files_name,\"text\":text})"
   ]
  },
  {
   "cell_type": "code",
   "execution_count": 35,
   "metadata": {},
   "outputs": [
    {
     "name": "stdout",
     "output_type": "stream",
     "text": [
      "<class 'pandas.core.frame.DataFrame'>\n",
      "RangeIndex: 100 entries, 0 to 99\n",
      "Data columns (total 2 columns):\n",
      "f_name    100 non-null object\n",
      "text      100 non-null object\n",
      "dtypes: object(2)\n",
      "memory usage: 840.0+ bytes\n"
     ]
    }
   ],
   "source": [
    "df_plag.info()"
   ]
  },
  {
   "cell_type": "code",
   "execution_count": 36,
   "metadata": {},
   "outputs": [
    {
     "data": {
      "text/html": [
       "<div>\n",
       "<style scoped>\n",
       "    .dataframe tbody tr th:only-of-type {\n",
       "        vertical-align: middle;\n",
       "    }\n",
       "\n",
       "    .dataframe tbody tr th {\n",
       "        vertical-align: top;\n",
       "    }\n",
       "\n",
       "    .dataframe thead th {\n",
       "        text-align: right;\n",
       "    }\n",
       "</style>\n",
       "<table border=\"1\" class=\"dataframe\">\n",
       "  <thead>\n",
       "    <tr style=\"text-align: right;\">\n",
       "      <th></th>\n",
       "      <th>f_name</th>\n",
       "      <th>text</th>\n",
       "    </tr>\n",
       "  </thead>\n",
       "  <tbody>\n",
       "    <tr>\n",
       "      <th>count</th>\n",
       "      <td>100</td>\n",
       "      <td>100</td>\n",
       "    </tr>\n",
       "    <tr>\n",
       "      <th>unique</th>\n",
       "      <td>100</td>\n",
       "      <td>100</td>\n",
       "    </tr>\n",
       "    <tr>\n",
       "      <th>top</th>\n",
       "      <td>g1pD_taskc</td>\n",
       "      <td>Since the develop of the Web 2.0, Google as on...</td>\n",
       "    </tr>\n",
       "    <tr>\n",
       "      <th>freq</th>\n",
       "      <td>1</td>\n",
       "      <td>1</td>\n",
       "    </tr>\n",
       "  </tbody>\n",
       "</table>\n",
       "</div>"
      ],
      "text/plain": [
       "            f_name                                               text\n",
       "count          100                                                100\n",
       "unique         100                                                100\n",
       "top     g1pD_taskc  Since the develop of the Web 2.0, Google as on...\n",
       "freq             1                                                  1"
      ]
     },
     "execution_count": 36,
     "metadata": {},
     "output_type": "execute_result"
    }
   ],
   "source": [
    "df_plag.describe()"
   ]
  },
  {
   "cell_type": "code",
   "execution_count": 37,
   "metadata": {},
   "outputs": [
    {
     "data": {
      "text/html": [
       "<div>\n",
       "<style scoped>\n",
       "    .dataframe tbody tr th:only-of-type {\n",
       "        vertical-align: middle;\n",
       "    }\n",
       "\n",
       "    .dataframe tbody tr th {\n",
       "        vertical-align: top;\n",
       "    }\n",
       "\n",
       "    .dataframe thead th {\n",
       "        text-align: right;\n",
       "    }\n",
       "</style>\n",
       "<table border=\"1\" class=\"dataframe\">\n",
       "  <thead>\n",
       "    <tr style=\"text-align: right;\">\n",
       "      <th></th>\n",
       "      <th>f_name</th>\n",
       "      <th>text</th>\n",
       "    </tr>\n",
       "  </thead>\n",
       "  <tbody>\n",
       "    <tr>\n",
       "      <th>0</th>\n",
       "      <td>g0pA_taska</td>\n",
       "      <td>Inheritance is a basic concept of Object-Orien...</td>\n",
       "    </tr>\n",
       "    <tr>\n",
       "      <th>1</th>\n",
       "      <td>g0pA_taskb</td>\n",
       "      <td>PageRank is a link analysis algorithm used by ...</td>\n",
       "    </tr>\n",
       "    <tr>\n",
       "      <th>2</th>\n",
       "      <td>g0pA_taskc</td>\n",
       "      <td>The vector space model (also called, term vect...</td>\n",
       "    </tr>\n",
       "    <tr>\n",
       "      <th>3</th>\n",
       "      <td>g0pA_taskd</td>\n",
       "      <td>Bayes theorem was names after Rev Thomas Bay...</td>\n",
       "    </tr>\n",
       "    <tr>\n",
       "      <th>4</th>\n",
       "      <td>g0pA_taske</td>\n",
       "      <td>Dynamic Programming is an algorithm design tec...</td>\n",
       "    </tr>\n",
       "  </tbody>\n",
       "</table>\n",
       "</div>"
      ],
      "text/plain": [
       "       f_name                                               text\n",
       "0  g0pA_taska  Inheritance is a basic concept of Object-Orien...\n",
       "1  g0pA_taskb  PageRank is a link analysis algorithm used by ...\n",
       "2  g0pA_taskc  The vector space model (also called, term vect...\n",
       "3  g0pA_taskd  Bayes theorem was names after Rev Thomas Bay...\n",
       "4  g0pA_taske  Dynamic Programming is an algorithm design tec..."
      ]
     },
     "execution_count": 37,
     "metadata": {},
     "output_type": "execute_result"
    }
   ],
   "source": [
    "df_plag.head(5)"
   ]
  },
  {
   "cell_type": "code",
   "execution_count": 38,
   "metadata": {},
   "outputs": [],
   "source": [
    "word_set = pd.Series(list(set(' '.join(text).split())))\n"
   ]
  },
  {
   "cell_type": "code",
   "execution_count": 39,
   "metadata": {},
   "outputs": [
    {
     "data": {
      "text/plain": [
       "divide               1\n",
       "sequence.            1\n",
       "along                1\n",
       "``the'',             1\n",
       "converge             1\n",
       "IBM                  1\n",
       "Logarithms           1\n",
       "tests.               1\n",
       "Several              1\n",
       "recalculated         1\n",
       "view                 1\n",
       "website              1\n",
       "invented             1\n",
       "manipulations        1\n",
       "paradigms            1\n",
       "System.              1\n",
       "going                1\n",
       "minimising           1\n",
       "mathematical         1\n",
       "somewhat             1\n",
       "observation.         1\n",
       "P(a|b)               1\n",
       "etc.).               1\n",
       "PhD                1\n",
       "gradually            1\n",
       "Kohler               1\n",
       "33%.                 1\n",
       "search.              1\n",
       "allready             1\n",
       "theory.              1\n",
       "                    ..\n",
       "empirical            1\n",
       "assist               1\n",
       "based                1\n",
       "advanced             1\n",
       "vector,              1\n",
       "context,             1\n",
       "publication,         1\n",
       "generalized          1\n",
       "P(A                  1\n",
       "technique            1\n",
       "found,               1\n",
       "more,                1\n",
       "became               1\n",
       "reducing             1\n",
       "(as                  1\n",
       "matter;              1\n",
       "(a                   1\n",
       "denotes              1\n",
       "document,            1\n",
       "concurrence-based    1\n",
       "system,              1\n",
       "reference            1\n",
       "architecture,        1\n",
       "living               1\n",
       "versions             1\n",
       "setColour(Color      1\n",
       "occurs               1\n",
       "disposed             1\n",
       "zero.                1\n",
       "official             1\n",
       "Length: 3210, dtype: int64"
      ]
     },
     "execution_count": 39,
     "metadata": {},
     "output_type": "execute_result"
    }
   ],
   "source": [
    "word_set.value_counts()"
   ]
  },
  {
   "cell_type": "code",
   "execution_count": null,
   "metadata": {},
   "outputs": [],
   "source": []
  },
  {
   "cell_type": "code",
   "execution_count": null,
   "metadata": {},
   "outputs": [],
   "source": []
  }
 ],
 "metadata": {
  "kernelspec": {
   "display_name": "Python 3",
   "language": "python",
   "name": "python3"
  },
  "language_info": {
   "codemirror_mode": {
    "name": "ipython",
    "version": 3
   },
   "file_extension": ".py",
   "mimetype": "text/x-python",
   "name": "python",
   "nbconvert_exporter": "python",
   "pygments_lexer": "ipython3",
   "version": "3.6.5"
  }
 },
 "nbformat": 4,
 "nbformat_minor": 2
}
